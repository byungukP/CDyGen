{
 "cells": [
  {
   "cell_type": "code",
   "execution_count": 3,
   "metadata": {},
   "outputs": [],
   "source": [
    "\"\"\"\n",
    "\n",
    "Author: ByungUk Park\n",
    "Written Date: 07/23/24\n",
    "Updated Date: 07/23/24\n",
    "\n",
    "\"\"\"\n",
    "\n",
    "import numpy as np\n",
    "import pandas as pd\n",
    "import math\n",
    "import matplotlib.pyplot as plt\n",
    "from scipy.signal import argrelextrema\n",
    "\n",
    "plt.rcParams.update({\n",
    "    'text.usetex':False,\n",
    "    'font.family':'Arial',\n",
    "    'font.sans-serif':['Arial'],\n",
    "    'mathtext.default':'regular',\n",
    "    })\n"
   ]
  },
  {
   "cell_type": "code",
   "execution_count": 4,
   "metadata": {},
   "outputs": [
    {
     "name": "stdout",
     "output_type": "stream",
     "text": [
      "30001\n",
      "['MSE', 'ACE', 'AMSE', 'CME', 'PRS', 'CAF', 'CSO', 'DSN', 'AZH', 'IZO', 'PYR', 'TPO', 'SEP', 'OLD', 'NIY', 'ANIY', 'ATSY', 'ATQZ', 'CSX', 'CAS', 'SCS', 'MLY', 'PF5']\n"
     ]
    }
   ],
   "source": [
    "### iface error cases\n",
    "\n",
    "log_path = \"E:/masif_docker/pmp/data_preparation/HETATM_CHECK.txt\"\n",
    "\n",
    "noncanonical_res_name_lst = []\n",
    "count_num = 0\n",
    "\n",
    "with open(log_path, 'r') as f:\n",
    "    for line in f:\n",
    "        count_num += 1\n",
    "        # Check if the line should be parsed\n",
    "        fields = line.strip()\n",
    "        if len(fields) == 0:\n",
    "            continue\n",
    "        resname = fields[45:49].strip()      # residue name@col 46~49\n",
    "        if resname not in noncanonical_res_name_lst:\n",
    "            noncanonical_res_name_lst.append(resname)\n",
    "\n",
    "print(count_num)\n",
    "print(noncanonical_res_name_lst)\n"
   ]
  },
  {
   "cell_type": "code",
   "execution_count": null,
   "metadata": {},
   "outputs": [],
   "source": []
  }
 ],
 "metadata": {
  "kernelspec": {
   "display_name": "base",
   "language": "python",
   "name": "python3"
  },
  "language_info": {
   "codemirror_mode": {
    "name": "ipython",
    "version": 3
   },
   "file_extension": ".py",
   "mimetype": "text/x-python",
   "name": "python",
   "nbconvert_exporter": "python",
   "pygments_lexer": "ipython3",
   "version": "3.9.7"
  },
  "orig_nbformat": 4
 },
 "nbformat": 4,
 "nbformat_minor": 2
}
